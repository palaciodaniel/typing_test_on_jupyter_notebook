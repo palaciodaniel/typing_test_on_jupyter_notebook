{
 "cells": [
  {
   "cell_type": "markdown",
   "metadata": {},
   "source": [
    "# Typing Test on Jupyter Notebook\n",
    "By **Daniel Palacio** (github.com/palaciodaniel) - November 2020\n",
    "\n",
    "**IMPORTANT:** Typing speed without precision is useless. Take your time to write and avoid as many mistakes as possible, otherwise you might need to retry the test. "
   ]
  },
  {
   "cell_type": "code",
   "execution_count": null,
   "metadata": {},
   "outputs": [],
   "source": [
    "import time\n",
    "\n",
    "from faker import Faker\n",
    "from random import randrange\n",
    "\n",
    "from fuzzywuzzy import fuzz\n",
    "import Levenshtein"
   ]
  },
  {
   "cell_type": "code",
   "execution_count": null,
   "metadata": {},
   "outputs": [],
   "source": [
    "# 1. 'sentence_list' will be compared with your input for precision checking.\n",
    "\n",
    "sentence_list = []\n",
    "\n",
    "for _ in range(randrange(7, 16)):\n",
    "    sentence_list.append(Faker().sentence()) # Compared with Faker().text() this is more customizable.\n",
    "\n",
    "# 2. 'sentence_display' showcases the generated text without errors.    \n",
    "\n",
    "sentence_display = []\n",
    "\n",
    "for idx, string in enumerate(sentence_list):\n",
    "    if idx % 2 == 1:\n",
    "        sentence_display.append(string + \"\\n\") # Add a newline to avoid formatting issues on the output.\n",
    "        continue\n",
    "    sentence_display.append(string)\n",
    "\n",
    "# 3. These lines turn both variables into strings.\n",
    "\n",
    "sentence_list = \" \".join(sentence_list)\n",
    "sentence_display = \" \".join(sentence_display)"
   ]
  },
  {
   "cell_type": "code",
   "execution_count": null,
   "metadata": {},
   "outputs": [],
   "source": [
    "print(\"TEXT TO COPY:\\n\\n\", sentence_display, \"\\n\\n\")\n",
    "start = time.time()\n",
    "your_input = input(\"---> PRESS 'ENTER' WHEN YOU FINISH.\\n\\n\")\n",
    "end = time.time()"
   ]
  },
  {
   "cell_type": "markdown",
   "metadata": {},
   "source": [
    "- - -\n",
    "\n",
    "### Computing results"
   ]
  },
  {
   "cell_type": "code",
   "execution_count": null,
   "metadata": {},
   "outputs": [],
   "source": [
    "# Comparing original text with input text to get the precision.\n",
    "precision = fuzz.ratio(sentence_list, your_input)\n",
    "\n",
    "# If you require a perfectly typed text, then change this to 100.\n",
    "required_precision = 95\n",
    "\n",
    "# This line divides the text by words and counts them.\n",
    "word_count = len(sentence_list.split(\" \"))\n",
    "\n",
    "# Seconds spent writing the text.\n",
    "runtime = round(end - start, 1) # Limiting to one decimal.\n",
    "\n",
    "# Formula: Number of words divided by total seconds, then multiply by 60 seconds / 1 minute.\n",
    "words_per_minute = int((word_count / runtime) * 60)\n",
    "\n",
    "# Average typing speed\n",
    "avg_speed = 40 \n",
    "\n",
    "print(\"\\nYour precision:\", precision, \"| Minimum precision required:\", required_precision, \"\\n\")\n",
    "\n",
    "if precision < required_precision:\n",
    "    print(\"RESULT: You committed too many mistakes. Please retry and take your time to write the text.\")\n",
    "else:\n",
    "    print(\"RESULT: It took you {} seconds to write a text of {} words.\"\\\n",
    "          .format(runtime, word_count), \\\n",
    "          \"\\n\\nYour speed:\", words_per_minute, \"WPM\" \\\n",
    "          \"\\nAverage speed:\", avg_speed, \"WPM\" \\\n",
    "          \"\\nRatio:\", round(words_per_minute / avg_speed, 2),\n",
    "          \"\\n\\n(WPM - Words per Minute)\")"
   ]
  }
 ],
 "metadata": {
  "kernelspec": {
   "display_name": "Python 3",
   "language": "python",
   "name": "python3"
  },
  "language_info": {
   "codemirror_mode": {
    "name": "ipython",
    "version": 3
   },
   "file_extension": ".py",
   "mimetype": "text/x-python",
   "name": "python",
   "nbconvert_exporter": "python",
   "pygments_lexer": "ipython3",
   "version": "3.8.3"
  }
 },
 "nbformat": 4,
 "nbformat_minor": 4
}
